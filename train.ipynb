{
  "nbformat": 4,
  "nbformat_minor": 0,
  "metadata": {
    "colab": {
      "provenance": []
    },
    "kernelspec": {
      "name": "python3",
      "display_name": "Python 3"
    },
    "language_info": {
      "name": "python"
    }
  },
  "cells": [
    {
      "cell_type": "markdown",
      "source": [
        "###Prepare downloads"
      ],
      "metadata": {
        "id": "1465Ji2BYMbV"
      }
    },
    {
      "cell_type": "code",
      "source": [
        "!pip install catboost"
      ],
      "metadata": {
        "colab": {
          "base_uri": "https://localhost:8080/"
        },
        "collapsed": true,
        "id": "i8iQ8aN9-A9U",
        "outputId": "9c210f7b-6c10-46c1-da97-e39bcc5e1794"
      },
      "execution_count": null,
      "outputs": [
        {
          "output_type": "stream",
          "name": "stdout",
          "text": [
            "Collecting catboost\n",
            "  Downloading catboost-1.2.8-cp312-cp312-manylinux2014_x86_64.whl.metadata (1.2 kB)\n",
            "Requirement already satisfied: graphviz in /usr/local/lib/python3.12/dist-packages (from catboost) (0.21)\n",
            "Requirement already satisfied: matplotlib in /usr/local/lib/python3.12/dist-packages (from catboost) (3.10.0)\n",
            "Requirement already satisfied: numpy<3.0,>=1.16.0 in /usr/local/lib/python3.12/dist-packages (from catboost) (2.0.2)\n",
            "Requirement already satisfied: pandas>=0.24 in /usr/local/lib/python3.12/dist-packages (from catboost) (2.2.2)\n",
            "Requirement already satisfied: scipy in /usr/local/lib/python3.12/dist-packages (from catboost) (1.16.2)\n",
            "Requirement already satisfied: plotly in /usr/local/lib/python3.12/dist-packages (from catboost) (5.24.1)\n",
            "Requirement already satisfied: six in /usr/local/lib/python3.12/dist-packages (from catboost) (1.17.0)\n",
            "Requirement already satisfied: python-dateutil>=2.8.2 in /usr/local/lib/python3.12/dist-packages (from pandas>=0.24->catboost) (2.9.0.post0)\n",
            "Requirement already satisfied: pytz>=2020.1 in /usr/local/lib/python3.12/dist-packages (from pandas>=0.24->catboost) (2025.2)\n",
            "Requirement already satisfied: tzdata>=2022.7 in /usr/local/lib/python3.12/dist-packages (from pandas>=0.24->catboost) (2025.2)\n",
            "Requirement already satisfied: contourpy>=1.0.1 in /usr/local/lib/python3.12/dist-packages (from matplotlib->catboost) (1.3.3)\n",
            "Requirement already satisfied: cycler>=0.10 in /usr/local/lib/python3.12/dist-packages (from matplotlib->catboost) (0.12.1)\n",
            "Requirement already satisfied: fonttools>=4.22.0 in /usr/local/lib/python3.12/dist-packages (from matplotlib->catboost) (4.60.1)\n",
            "Requirement already satisfied: kiwisolver>=1.3.1 in /usr/local/lib/python3.12/dist-packages (from matplotlib->catboost) (1.4.9)\n",
            "Requirement already satisfied: packaging>=20.0 in /usr/local/lib/python3.12/dist-packages (from matplotlib->catboost) (25.0)\n",
            "Requirement already satisfied: pillow>=8 in /usr/local/lib/python3.12/dist-packages (from matplotlib->catboost) (11.3.0)\n",
            "Requirement already satisfied: pyparsing>=2.3.1 in /usr/local/lib/python3.12/dist-packages (from matplotlib->catboost) (3.2.5)\n",
            "Requirement already satisfied: tenacity>=6.2.0 in /usr/local/lib/python3.12/dist-packages (from plotly->catboost) (8.5.0)\n",
            "Downloading catboost-1.2.8-cp312-cp312-manylinux2014_x86_64.whl (99.2 MB)\n",
            "\u001b[2K   \u001b[90m━━━━━━━━━━━━━━━━━━━━━━━━━━━━━━━━━━━━━━━━\u001b[0m \u001b[32m99.2/99.2 MB\u001b[0m \u001b[31m12.6 MB/s\u001b[0m eta \u001b[36m0:00:00\u001b[0m\n",
            "\u001b[?25hInstalling collected packages: catboost\n",
            "Successfully installed catboost-1.2.8\n"
          ]
        }
      ]
    },
    {
      "cell_type": "code",
      "source": [
        "import os\n",
        "import pandas as pd\n",
        "import numpy as np\n",
        "import matplotlib.pyplot as plt\n",
        "import seaborn as sns\n",
        "from sklearn.model_selection import train_test_split\n",
        "from sklearn.metrics import accuracy_score, precision_score, recall_score, f1_score\n",
        "from catboost import CatBoostClassifier, cv\n",
        "from sklearn.ensemble import RandomForestClassifier\n",
        "from sklearn.model_selection import GridSearchCV\n",
        "from sklearn.ensemble import StackingClassifier\n",
        "from sklearn.linear_model import LogisticRegression\n",
        "import joblib"
      ],
      "metadata": {
        "id": "FxmF5cQn585G"
      },
      "execution_count": null,
      "outputs": []
    },
    {
      "cell_type": "code",
      "source": [
        "from sklearn.svm import SVC\n",
        "from sklearn.model_selection import GridSearchCV"
      ],
      "metadata": {
        "id": "clOfdI9JfXOq"
      },
      "execution_count": null,
      "outputs": []
    },
    {
      "cell_type": "code",
      "source": [
        "from google.colab import drive\n",
        "drive.mount('/content/drive')"
      ],
      "metadata": {
        "colab": {
          "base_uri": "https://localhost:8080/"
        },
        "id": "ZnZAe1aD6D6E",
        "outputId": "187a8b70-14d8-4b99-d367-26eabcabcb62"
      },
      "execution_count": null,
      "outputs": [
        {
          "output_type": "stream",
          "name": "stdout",
          "text": [
            "Mounted at /content/drive\n"
          ]
        }
      ]
    },
    {
      "cell_type": "code",
      "source": [
        "path_to_data = \"/content/drive/MyDrive/SBER_Base/Data\""
      ],
      "metadata": {
        "id": "1sEC1uN26ZSt"
      },
      "execution_count": null,
      "outputs": []
    },
    {
      "cell_type": "code",
      "source": [
        "def get_metrics(y_gt, y_pred, average='binary'):\n",
        "    metrics = {\n",
        "        'accuracy': accuracy_score(y_gt, y_pred),\n",
        "        'precision': precision_score(y_gt, y_pred, average=average, zero_division=0),\n",
        "        'recall': recall_score(y_gt, y_pred, average=average, zero_division=0),\n",
        "        'f1': f1_score(y_gt, y_pred, average=average, zero_division=0)\n",
        "    }\n",
        "\n",
        "    metrics = {k: round(v, 4) for k, v in metrics.items()}\n",
        "\n",
        "    return metrics"
      ],
      "metadata": {
        "id": "0re3MLfS7kSN"
      },
      "execution_count": null,
      "outputs": []
    },
    {
      "cell_type": "code",
      "source": [
        "seed = 42"
      ],
      "metadata": {
        "id": "QPCmlUb1BIue"
      },
      "execution_count": null,
      "outputs": []
    },
    {
      "cell_type": "markdown",
      "source": [
        "###Необработанные данные"
      ],
      "metadata": {
        "id": "nwaaH3v27Tan"
      }
    },
    {
      "cell_type": "code",
      "source": [
        "path_to_train = os.path.join(path_to_data, \"invest_train.csv\")\n",
        "\n",
        "train_df = pd.read_csv(path_to_train, index_col='customer_id')\n",
        "\n",
        "X_train_raw = train_df.drop(columns=[\"accepted\"])\n",
        "y_train_raw = train_df[\"accepted\"]"
      ],
      "metadata": {
        "id": "3bkvf2AV6oGF"
      },
      "execution_count": null,
      "outputs": []
    },
    {
      "cell_type": "code",
      "source": [
        "X_train, X_val, y_train, y_val = train_test_split(X_train_raw, y_train_raw, test_size=0.2, random_state=seed)"
      ],
      "metadata": {
        "id": "MP2L_FsiZkUj"
      },
      "execution_count": null,
      "outputs": []
    },
    {
      "cell_type": "code",
      "execution_count": null,
      "metadata": {
        "id": "bMcpXOMmrJhx"
      },
      "outputs": [],
      "source": [
        "num_features = [\"age\", \"balance\", \"offer_amount\"]\n",
        "binary_features = [\"previous_investments\", \"responded_before\"]\n",
        "cat_features = [\"risk_profile\", \"marketing_channel\", \"membership_tier\"]"
      ]
    },
    {
      "cell_type": "markdown",
      "source": [
        "###Обработанные данные"
      ],
      "metadata": {
        "id": "cUshDoohYk0i"
      }
    },
    {
      "cell_type": "code",
      "source": [
        "path_to_train_final = os.path.join(path_to_data, \"train_final.csv\")\n",
        "\n",
        "train_final_df = pd.read_csv(path_to_train_final)"
      ],
      "metadata": {
        "id": "HYY1pCdfDYPI"
      },
      "execution_count": null,
      "outputs": []
    },
    {
      "cell_type": "code",
      "source": [
        "X_train_final, X_val_final, y_train_final, y_val_final = train_test_split(train_final_df, y_train_raw, test_size=0.2, random_state=seed)"
      ],
      "metadata": {
        "id": "RZt0yrVBDYPJ"
      },
      "execution_count": null,
      "outputs": []
    },
    {
      "cell_type": "markdown",
      "source": [
        "###Обучение модели Catboost для необработанных данных"
      ],
      "metadata": {
        "id": "s7xzKydB6FzM"
      }
    },
    {
      "cell_type": "code",
      "source": [
        "# grid = {\n",
        "#     'iterations': [100, 200, 500],\n",
        "#     'learning_rate': [0.01, 0.03, 0.1, 0.3],\n",
        "#     'depth': [4, 6, 8],\n",
        "#     'l2_leaf_reg': [1, 3, 5]\n",
        "# }\n",
        "\n",
        "# model = CatBoostClassifier(cat_features=cat_features, verbose=False)\n",
        "# grid_search_result = model.grid_search(\n",
        "#     grid,\n",
        "#     X=X_train,\n",
        "#     y=y_train,\n",
        "#     cv=3,\n",
        "#     plot=False\n",
        "# )\n",
        "\n",
        "# print(\"Best params:\", grid_search_result['params'])\n",
        "\n",
        "# best_model = CatBoostClassifier(**grid_search_result['params'], cat_features=cat_features)\n",
        "# best_model.fit(X_train, y_train, verbose=False)\n",
        "\n",
        "# y_pred = best_model.predict(X_val)\n",
        "# val_metrics = get_metrics(y_val, y_pred)\n",
        "# print(\"Validation metrics:\", val_metrics)"
      ],
      "metadata": {
        "collapsed": true,
        "id": "yVk3y8vl92wV"
      },
      "execution_count": null,
      "outputs": []
    },
    {
      "cell_type": "markdown",
      "source": [
        "Best params: {'depth': 6, 'learning_rate': 0.3, 'l2_leaf_reg': 3, 'iterations': 200}\n",
        "\n",
        "\n",
        "Validation metrics: {'accuracy': 0.7675, 'precision': 0.8092, 'recall': 0.8899, 'f1': 0.8476}"
      ],
      "metadata": {
        "id": "CZD7hZqkANXe"
      }
    },
    {
      "cell_type": "code",
      "source": [
        "catboost_model_nondata = CatBoostClassifier(\n",
        "    depth=6,\n",
        "    learning_rate=0.3,\n",
        "    l2_leaf_reg=3,\n",
        "    iterations=200,\n",
        "    cat_features=cat_features,\n",
        "    random_seed=seed,\n",
        "    verbose=False\n",
        ")\n",
        "\n",
        "catboost_model_nondata.fit(X_train, y_train)\n",
        "\n",
        "y_pred_boost = catboost_model_nondata.predict(X_val)\n",
        "val_metrics = get_metrics(y_val, y_pred_boost)\n",
        "print(\"Best model metrics:\", val_metrics)"
      ],
      "metadata": {
        "id": "b_15kFoxAlsu",
        "colab": {
          "base_uri": "https://localhost:8080/"
        },
        "outputId": "d32af67f-1460-4a77-d0ba-b4c9c10fc70f"
      },
      "execution_count": null,
      "outputs": [
        {
          "output_type": "stream",
          "name": "stdout",
          "text": [
            "Best model metrics: {'accuracy': 0.765, 'precision': 0.806, 'recall': 0.8911, 'f1': 0.8464}\n"
          ]
        }
      ]
    },
    {
      "cell_type": "markdown",
      "source": [
        "###Обучение модели Catboost для обработанных данных"
      ],
      "metadata": {
        "id": "I7y4ehd_-xp_"
      }
    },
    {
      "cell_type": "code",
      "source": [
        "# grid = {\n",
        "#     'iterations': [100, 200, 500],\n",
        "#     'learning_rate': [0.01, 0.03, 0.1, 0.3],\n",
        "#     'depth': [4, 6, 8],\n",
        "#     'l2_leaf_reg': [1, 3, 5]\n",
        "# }\n",
        "\n",
        "# model = CatBoostClassifier(verbose=False, seed=seed)\n",
        "# grid_search_result = model.grid_search(\n",
        "#     grid,\n",
        "#     X=train_df,\n",
        "#     y=y_train_df,\n",
        "#     cv=5,\n",
        "#     plot=False\n",
        "# )\n",
        "\n",
        "# print(\"Best params:\", grid_search_result['params'])\n",
        "\n",
        "# best_model = CatBoostClassifier(**grid_search_result['params'])\n",
        "# best_model.fit(train_df, y_train_df, verbose=False)\n",
        "\n",
        "# y_pred = best_model.predict(val_df)\n",
        "# val_metrics = get_metrics(y_val_df, y_pred)\n",
        "# print(\"Validation metrics:\", val_metrics)"
      ],
      "metadata": {
        "collapsed": true,
        "id": "WpKJuaGz_4O2"
      },
      "execution_count": null,
      "outputs": []
    },
    {
      "cell_type": "markdown",
      "source": [
        "Best params: {'depth': 6, 'learning_rate': 0.1, 'l2_leaf_reg': 5, 'iterations': 100}\n",
        "Validation metrics: {'accuracy': 0.7842, 'precision': 0.8223, 'recall': 0.8968, 'f1': 0.8579}"
      ],
      "metadata": {
        "id": "CZklrVZZCTEN"
      }
    },
    {
      "cell_type": "code",
      "source": [
        "catboost_model_processedData = CatBoostClassifier(\n",
        "    depth=6,\n",
        "    learning_rate=0.1,\n",
        "    l2_leaf_reg=5,\n",
        "    iterations=100,\n",
        "    random_seed=seed,\n",
        "    verbose=False\n",
        ")\n",
        "\n",
        "catboost_model_processedData.fit(X_train_final, y_train_final)\n",
        "\n",
        "y_pred_boost = catboost_model_processedData.predict(X_val_final)\n",
        "val_metrics = get_metrics(y_val_final, y_pred_boost)\n",
        "print(\"Best model metrics:\", val_metrics)"
      ],
      "metadata": {
        "colab": {
          "base_uri": "https://localhost:8080/"
        },
        "id": "n9E2SjiNCYlU",
        "outputId": "9df7bf54-8235-41c9-bc65-87ecc2243dc1"
      },
      "execution_count": null,
      "outputs": [
        {
          "output_type": "stream",
          "name": "stdout",
          "text": [
            "Best model metrics: {'accuracy': 0.7867, 'precision': 0.8263, 'recall': 0.8945, 'f1': 0.859}\n"
          ]
        }
      ]
    },
    {
      "cell_type": "markdown",
      "source": [
        "###Обучение RandomForestClassifier для обработанных данных"
      ],
      "metadata": {
        "id": "GXSyHdQKDVsv"
      }
    },
    {
      "cell_type": "code",
      "source": [
        "# param_grid = {\n",
        "#     'n_estimators': [100, 200, 300],\n",
        "#     'max_depth': [5, 10, 20, None],\n",
        "#     'min_samples_split': [2, 5, 10],\n",
        "#     'min_samples_leaf': [1, 2, 4]\n",
        "# }\n",
        "\n",
        "# rf = RandomForestClassifier(random_state=seed)\n",
        "# grid_search = GridSearchCV(rf, param_grid, cv=3, scoring='f1', n_jobs=-1)\n",
        "# grid_search.fit(X_train_final, y_train_final)\n",
        "\n",
        "# print(\"Best params:\", grid_search.best_params_)\n",
        "\n",
        "# best_rf = grid_search.best_estimator_\n",
        "# y_pred = best_rf.predict(X_val_final)\n",
        "# val_metrics = get_metrics(y_val_final, y_pred)\n",
        "# print(\"Validation metrics:\", val_metrics)"
      ],
      "metadata": {
        "collapsed": true,
        "id": "S1OE0Bb1FF8-"
      },
      "execution_count": null,
      "outputs": []
    },
    {
      "cell_type": "markdown",
      "source": [
        "Best params: {'max_depth': 5, 'min_samples_leaf': 1, 'min_samples_split': 5, 'n_estimators': 100}\n",
        "\n",
        "\n",
        "Validation metrics: {'accuracy': 0.7758, 'precision': 0.7976, 'recall': 0.9266, 'f1': 0.8573}"
      ],
      "metadata": {
        "id": "Ft1A4fS4G9q_"
      }
    },
    {
      "cell_type": "code",
      "source": [
        "best_rf1 = RandomForestClassifier(\n",
        "    max_depth=5,\n",
        "    min_samples_leaf=1,\n",
        "    min_samples_split=5,\n",
        "    n_estimators=100,\n",
        "    random_state=42\n",
        ")\n",
        "\n",
        "best_rf1.fit(X_train_final, y_train_final)\n",
        "\n",
        "y_pred = best_rf1.predict(X_val_final)\n",
        "val_metrics = get_metrics(y_val_final, y_pred)\n",
        "print(\"Best RF metrics:\", val_metrics)"
      ],
      "metadata": {
        "colab": {
          "base_uri": "https://localhost:8080/"
        },
        "id": "_UoIszEEHLYW",
        "outputId": "3723a7b6-3d4a-40f7-c00d-f656fc2f2a84"
      },
      "execution_count": null,
      "outputs": [
        {
          "output_type": "stream",
          "name": "stdout",
          "text": [
            "Best RF metrics: {'accuracy': 0.7758, 'precision': 0.7976, 'recall': 0.9266, 'f1': 0.8573}\n"
          ]
        }
      ]
    },
    {
      "cell_type": "markdown",
      "source": [
        "###Обучение RandomForestClassifier для обработанных данных 2 для последующего стейкинга"
      ],
      "metadata": {
        "id": "NBEmK4JNDYPG"
      }
    },
    {
      "cell_type": "code",
      "source": [
        "# param_grid = {\n",
        "#     'n_estimators': [25, 50, 75, 100],\n",
        "#     'max_depth': [5, 10, 20, 30, None],\n",
        "#     'min_samples_split': [2, 5, 7, 10],\n",
        "#     'min_samples_leaf': [1, 2, 3, 4]\n",
        "# }\n",
        "\n",
        "# rf = RandomForestClassifier(random_state=seed)\n",
        "# grid_search = GridSearchCV(rf, param_grid, cv=4, scoring='f1', n_jobs=-1, verbose=3)\n",
        "# grid_search.fit(X_train_final, y_train_final)\n",
        "\n",
        "# print(\"Best params:\", grid_search.best_params_)\n",
        "\n",
        "# best_rf2 = grid_search.best_estimator_\n",
        "# y_pred = best_rf2.predict(X_val_final)\n",
        "# val_metrics = get_metrics(y_val_final, y_pred)\n",
        "# print(\"Validation metrics:\", val_metrics)"
      ],
      "metadata": {
        "colab": {
          "base_uri": "https://localhost:8080/",
          "height": 367
        },
        "collapsed": true,
        "outputId": "019cef63-1b82-4be4-a52c-fc5161e756a3",
        "id": "yniwgkriDYPJ"
      },
      "execution_count": null,
      "outputs": [
        {
          "output_type": "stream",
          "name": "stdout",
          "text": [
            "Fitting 4 folds for each of 320 candidates, totalling 1280 fits\n"
          ]
        },
        {
          "output_type": "error",
          "ename": "KeyboardInterrupt",
          "evalue": "",
          "traceback": [
            "\u001b[0;31m---------------------------------------------------------------------------\u001b[0m",
            "\u001b[0;31mKeyboardInterrupt\u001b[0m                         Traceback (most recent call last)",
            "\u001b[0;32m/tmp/ipython-input-2857735453.py\u001b[0m in \u001b[0;36m<cell line: 0>\u001b[0;34m()\u001b[0m\n\u001b[1;32m      8\u001b[0m \u001b[0mrf\u001b[0m \u001b[0;34m=\u001b[0m \u001b[0mRandomForestClassifier\u001b[0m\u001b[0;34m(\u001b[0m\u001b[0mrandom_state\u001b[0m\u001b[0;34m=\u001b[0m\u001b[0mseed\u001b[0m\u001b[0;34m)\u001b[0m\u001b[0;34m\u001b[0m\u001b[0;34m\u001b[0m\u001b[0m\n\u001b[1;32m      9\u001b[0m \u001b[0mgrid_search\u001b[0m \u001b[0;34m=\u001b[0m \u001b[0mGridSearchCV\u001b[0m\u001b[0;34m(\u001b[0m\u001b[0mrf\u001b[0m\u001b[0;34m,\u001b[0m \u001b[0mparam_grid\u001b[0m\u001b[0;34m,\u001b[0m \u001b[0mcv\u001b[0m\u001b[0;34m=\u001b[0m\u001b[0;36m4\u001b[0m\u001b[0;34m,\u001b[0m \u001b[0mscoring\u001b[0m\u001b[0;34m=\u001b[0m\u001b[0;34m'f1'\u001b[0m\u001b[0;34m,\u001b[0m \u001b[0mn_jobs\u001b[0m\u001b[0;34m=\u001b[0m\u001b[0;34m-\u001b[0m\u001b[0;36m1\u001b[0m\u001b[0;34m,\u001b[0m \u001b[0mverbose\u001b[0m\u001b[0;34m=\u001b[0m\u001b[0;36m3\u001b[0m\u001b[0;34m)\u001b[0m\u001b[0;34m\u001b[0m\u001b[0;34m\u001b[0m\u001b[0m\n\u001b[0;32m---> 10\u001b[0;31m \u001b[0mgrid_search\u001b[0m\u001b[0;34m.\u001b[0m\u001b[0mfit\u001b[0m\u001b[0;34m(\u001b[0m\u001b[0mX_train_final\u001b[0m\u001b[0;34m,\u001b[0m \u001b[0my_train_final\u001b[0m\u001b[0;34m)\u001b[0m\u001b[0;34m\u001b[0m\u001b[0;34m\u001b[0m\u001b[0m\n\u001b[0m\u001b[1;32m     11\u001b[0m \u001b[0;34m\u001b[0m\u001b[0m\n\u001b[1;32m     12\u001b[0m \u001b[0mprint\u001b[0m\u001b[0;34m(\u001b[0m\u001b[0;34m\"Best params:\"\u001b[0m\u001b[0;34m,\u001b[0m \u001b[0mgrid_search\u001b[0m\u001b[0;34m.\u001b[0m\u001b[0mbest_params_\u001b[0m\u001b[0;34m)\u001b[0m\u001b[0;34m\u001b[0m\u001b[0;34m\u001b[0m\u001b[0m\n",
            "\u001b[0;32m/usr/local/lib/python3.12/dist-packages/sklearn/base.py\u001b[0m in \u001b[0;36mwrapper\u001b[0;34m(estimator, *args, **kwargs)\u001b[0m\n\u001b[1;32m   1387\u001b[0m                 )\n\u001b[1;32m   1388\u001b[0m             ):\n\u001b[0;32m-> 1389\u001b[0;31m                 \u001b[0;32mreturn\u001b[0m \u001b[0mfit_method\u001b[0m\u001b[0;34m(\u001b[0m\u001b[0mestimator\u001b[0m\u001b[0;34m,\u001b[0m \u001b[0;34m*\u001b[0m\u001b[0margs\u001b[0m\u001b[0;34m,\u001b[0m \u001b[0;34m**\u001b[0m\u001b[0mkwargs\u001b[0m\u001b[0;34m)\u001b[0m\u001b[0;34m\u001b[0m\u001b[0;34m\u001b[0m\u001b[0m\n\u001b[0m\u001b[1;32m   1390\u001b[0m \u001b[0;34m\u001b[0m\u001b[0m\n\u001b[1;32m   1391\u001b[0m         \u001b[0;32mreturn\u001b[0m \u001b[0mwrapper\u001b[0m\u001b[0;34m\u001b[0m\u001b[0;34m\u001b[0m\u001b[0m\n",
            "\u001b[0;32m/usr/local/lib/python3.12/dist-packages/sklearn/model_selection/_search.py\u001b[0m in \u001b[0;36mfit\u001b[0;34m(self, X, y, **params)\u001b[0m\n\u001b[1;32m   1022\u001b[0m                 \u001b[0;32mreturn\u001b[0m \u001b[0mresults\u001b[0m\u001b[0;34m\u001b[0m\u001b[0;34m\u001b[0m\u001b[0m\n\u001b[1;32m   1023\u001b[0m \u001b[0;34m\u001b[0m\u001b[0m\n\u001b[0;32m-> 1024\u001b[0;31m             \u001b[0mself\u001b[0m\u001b[0;34m.\u001b[0m\u001b[0m_run_search\u001b[0m\u001b[0;34m(\u001b[0m\u001b[0mevaluate_candidates\u001b[0m\u001b[0;34m)\u001b[0m\u001b[0;34m\u001b[0m\u001b[0;34m\u001b[0m\u001b[0m\n\u001b[0m\u001b[1;32m   1025\u001b[0m \u001b[0;34m\u001b[0m\u001b[0m\n\u001b[1;32m   1026\u001b[0m             \u001b[0;31m# multimetric is determined here because in the case of a callable\u001b[0m\u001b[0;34m\u001b[0m\u001b[0;34m\u001b[0m\u001b[0m\n",
            "\u001b[0;32m/usr/local/lib/python3.12/dist-packages/sklearn/model_selection/_search.py\u001b[0m in \u001b[0;36m_run_search\u001b[0;34m(self, evaluate_candidates)\u001b[0m\n\u001b[1;32m   1569\u001b[0m     \u001b[0;32mdef\u001b[0m \u001b[0m_run_search\u001b[0m\u001b[0;34m(\u001b[0m\u001b[0mself\u001b[0m\u001b[0;34m,\u001b[0m \u001b[0mevaluate_candidates\u001b[0m\u001b[0;34m)\u001b[0m\u001b[0;34m:\u001b[0m\u001b[0;34m\u001b[0m\u001b[0;34m\u001b[0m\u001b[0m\n\u001b[1;32m   1570\u001b[0m         \u001b[0;34m\"\"\"Search all candidates in param_grid\"\"\"\u001b[0m\u001b[0;34m\u001b[0m\u001b[0;34m\u001b[0m\u001b[0m\n\u001b[0;32m-> 1571\u001b[0;31m         \u001b[0mevaluate_candidates\u001b[0m\u001b[0;34m(\u001b[0m\u001b[0mParameterGrid\u001b[0m\u001b[0;34m(\u001b[0m\u001b[0mself\u001b[0m\u001b[0;34m.\u001b[0m\u001b[0mparam_grid\u001b[0m\u001b[0;34m)\u001b[0m\u001b[0;34m)\u001b[0m\u001b[0;34m\u001b[0m\u001b[0;34m\u001b[0m\u001b[0m\n\u001b[0m\u001b[1;32m   1572\u001b[0m \u001b[0;34m\u001b[0m\u001b[0m\n\u001b[1;32m   1573\u001b[0m \u001b[0;34m\u001b[0m\u001b[0m\n",
            "\u001b[0;32m/usr/local/lib/python3.12/dist-packages/sklearn/model_selection/_search.py\u001b[0m in \u001b[0;36mevaluate_candidates\u001b[0;34m(candidate_params, cv, more_results)\u001b[0m\n\u001b[1;32m    968\u001b[0m                     )\n\u001b[1;32m    969\u001b[0m \u001b[0;34m\u001b[0m\u001b[0m\n\u001b[0;32m--> 970\u001b[0;31m                 out = parallel(\n\u001b[0m\u001b[1;32m    971\u001b[0m                     delayed(_fit_and_score)(\n\u001b[1;32m    972\u001b[0m                         \u001b[0mclone\u001b[0m\u001b[0;34m(\u001b[0m\u001b[0mbase_estimator\u001b[0m\u001b[0;34m)\u001b[0m\u001b[0;34m,\u001b[0m\u001b[0;34m\u001b[0m\u001b[0;34m\u001b[0m\u001b[0m\n",
            "\u001b[0;32m/usr/local/lib/python3.12/dist-packages/sklearn/utils/parallel.py\u001b[0m in \u001b[0;36m__call__\u001b[0;34m(self, iterable)\u001b[0m\n\u001b[1;32m     75\u001b[0m             \u001b[0;32mfor\u001b[0m \u001b[0mdelayed_func\u001b[0m\u001b[0;34m,\u001b[0m \u001b[0margs\u001b[0m\u001b[0;34m,\u001b[0m \u001b[0mkwargs\u001b[0m \u001b[0;32min\u001b[0m \u001b[0miterable\u001b[0m\u001b[0;34m\u001b[0m\u001b[0;34m\u001b[0m\u001b[0m\n\u001b[1;32m     76\u001b[0m         )\n\u001b[0;32m---> 77\u001b[0;31m         \u001b[0;32mreturn\u001b[0m \u001b[0msuper\u001b[0m\u001b[0;34m(\u001b[0m\u001b[0;34m)\u001b[0m\u001b[0;34m.\u001b[0m\u001b[0m__call__\u001b[0m\u001b[0;34m(\u001b[0m\u001b[0miterable_with_config\u001b[0m\u001b[0;34m)\u001b[0m\u001b[0;34m\u001b[0m\u001b[0;34m\u001b[0m\u001b[0m\n\u001b[0m\u001b[1;32m     78\u001b[0m \u001b[0;34m\u001b[0m\u001b[0m\n\u001b[1;32m     79\u001b[0m \u001b[0;34m\u001b[0m\u001b[0m\n",
            "\u001b[0;32m/usr/local/lib/python3.12/dist-packages/joblib/parallel.py\u001b[0m in \u001b[0;36m__call__\u001b[0;34m(self, iterable)\u001b[0m\n\u001b[1;32m   2070\u001b[0m         \u001b[0mnext\u001b[0m\u001b[0;34m(\u001b[0m\u001b[0moutput\u001b[0m\u001b[0;34m)\u001b[0m\u001b[0;34m\u001b[0m\u001b[0;34m\u001b[0m\u001b[0m\n\u001b[1;32m   2071\u001b[0m \u001b[0;34m\u001b[0m\u001b[0m\n\u001b[0;32m-> 2072\u001b[0;31m         \u001b[0;32mreturn\u001b[0m \u001b[0moutput\u001b[0m \u001b[0;32mif\u001b[0m \u001b[0mself\u001b[0m\u001b[0;34m.\u001b[0m\u001b[0mreturn_generator\u001b[0m \u001b[0;32melse\u001b[0m \u001b[0mlist\u001b[0m\u001b[0;34m(\u001b[0m\u001b[0moutput\u001b[0m\u001b[0;34m)\u001b[0m\u001b[0;34m\u001b[0m\u001b[0;34m\u001b[0m\u001b[0m\n\u001b[0m\u001b[1;32m   2073\u001b[0m \u001b[0;34m\u001b[0m\u001b[0m\n\u001b[1;32m   2074\u001b[0m     \u001b[0;32mdef\u001b[0m \u001b[0m__repr__\u001b[0m\u001b[0;34m(\u001b[0m\u001b[0mself\u001b[0m\u001b[0;34m)\u001b[0m\u001b[0;34m:\u001b[0m\u001b[0;34m\u001b[0m\u001b[0;34m\u001b[0m\u001b[0m\n",
            "\u001b[0;32m/usr/local/lib/python3.12/dist-packages/joblib/parallel.py\u001b[0m in \u001b[0;36m_get_outputs\u001b[0;34m(self, iterator, pre_dispatch)\u001b[0m\n\u001b[1;32m   1680\u001b[0m \u001b[0;34m\u001b[0m\u001b[0m\n\u001b[1;32m   1681\u001b[0m             \u001b[0;32mwith\u001b[0m \u001b[0mself\u001b[0m\u001b[0;34m.\u001b[0m\u001b[0m_backend\u001b[0m\u001b[0;34m.\u001b[0m\u001b[0mretrieval_context\u001b[0m\u001b[0;34m(\u001b[0m\u001b[0;34m)\u001b[0m\u001b[0;34m:\u001b[0m\u001b[0;34m\u001b[0m\u001b[0;34m\u001b[0m\u001b[0m\n\u001b[0;32m-> 1682\u001b[0;31m                 \u001b[0;32myield\u001b[0m \u001b[0;32mfrom\u001b[0m \u001b[0mself\u001b[0m\u001b[0;34m.\u001b[0m\u001b[0m_retrieve\u001b[0m\u001b[0;34m(\u001b[0m\u001b[0;34m)\u001b[0m\u001b[0;34m\u001b[0m\u001b[0;34m\u001b[0m\u001b[0m\n\u001b[0m\u001b[1;32m   1683\u001b[0m \u001b[0;34m\u001b[0m\u001b[0m\n\u001b[1;32m   1684\u001b[0m         \u001b[0;32mexcept\u001b[0m \u001b[0mGeneratorExit\u001b[0m\u001b[0;34m:\u001b[0m\u001b[0;34m\u001b[0m\u001b[0;34m\u001b[0m\u001b[0m\n",
            "\u001b[0;32m/usr/local/lib/python3.12/dist-packages/joblib/parallel.py\u001b[0m in \u001b[0;36m_retrieve\u001b[0;34m(self)\u001b[0m\n\u001b[1;32m   1798\u001b[0m                     \u001b[0mself\u001b[0m\u001b[0;34m.\u001b[0m\u001b[0m_jobs\u001b[0m\u001b[0;34m[\u001b[0m\u001b[0;36m0\u001b[0m\u001b[0;34m]\u001b[0m\u001b[0;34m.\u001b[0m\u001b[0mget_status\u001b[0m\u001b[0;34m(\u001b[0m\u001b[0mtimeout\u001b[0m\u001b[0;34m=\u001b[0m\u001b[0mself\u001b[0m\u001b[0;34m.\u001b[0m\u001b[0mtimeout\u001b[0m\u001b[0;34m)\u001b[0m \u001b[0;34m==\u001b[0m \u001b[0mTASK_PENDING\u001b[0m\u001b[0;34m\u001b[0m\u001b[0;34m\u001b[0m\u001b[0m\n\u001b[1;32m   1799\u001b[0m                 ):\n\u001b[0;32m-> 1800\u001b[0;31m                     \u001b[0mtime\u001b[0m\u001b[0;34m.\u001b[0m\u001b[0msleep\u001b[0m\u001b[0;34m(\u001b[0m\u001b[0;36m0.01\u001b[0m\u001b[0;34m)\u001b[0m\u001b[0;34m\u001b[0m\u001b[0;34m\u001b[0m\u001b[0m\n\u001b[0m\u001b[1;32m   1801\u001b[0m                     \u001b[0;32mcontinue\u001b[0m\u001b[0;34m\u001b[0m\u001b[0;34m\u001b[0m\u001b[0m\n\u001b[1;32m   1802\u001b[0m \u001b[0;34m\u001b[0m\u001b[0m\n",
            "\u001b[0;31mKeyboardInterrupt\u001b[0m: "
          ]
        }
      ]
    },
    {
      "cell_type": "markdown",
      "source": [
        "RF2 Best params: {'max_depth': 5, 'min_samples_leaf': 2, 'min_samples_split': 2, 'n_estimators': 25}\n",
        "\n",
        "Validation metrics: {'accuracy': 0.7775, 'precision': 0.8016, 'recall': 0.922, 'f1': 0.8576}"
      ],
      "metadata": {
        "id": "gCSmGZqNemNk"
      }
    },
    {
      "cell_type": "code",
      "source": [
        "best_rf2 = RandomForestClassifier(\n",
        "    max_depth=5,\n",
        "    min_samples_leaf=2,\n",
        "    min_samples_split=2,\n",
        "    n_estimators=25,\n",
        "    random_state=seed\n",
        ")\n",
        "\n",
        "best_rf2.fit(X_train_final, y_train_final)\n",
        "\n",
        "y_pred = best_rf2.predict(X_val_final)\n",
        "val_metrics = get_metrics(y_val_final, y_pred)\n",
        "print(\"Best RF metrics:\", val_metrics)"
      ],
      "metadata": {
        "colab": {
          "base_uri": "https://localhost:8080/"
        },
        "outputId": "1112c2bd-d861-48b4-800d-0b0b713f3399",
        "id": "e86I3JmGDYPK"
      },
      "execution_count": null,
      "outputs": [
        {
          "output_type": "stream",
          "name": "stdout",
          "text": [
            "Best RF metrics: {'accuracy': 0.7775, 'precision': 0.8016, 'recall': 0.922, 'f1': 0.8576}\n"
          ]
        }
      ]
    },
    {
      "cell_type": "markdown",
      "source": [
        "###Обучение Лог регрессии"
      ],
      "metadata": {
        "id": "G9ndOGdEH1Au"
      }
    },
    {
      "cell_type": "code",
      "source": [
        "# param_grid = {\n",
        "#     'C': [0.1, 1, 5, 10],\n",
        "#     'penalty': ['l1', 'l2'],\n",
        "#     'solver': ['liblinear', 'saga']\n",
        "# }\n",
        "\n",
        "# logreg = LogisticRegression(class_weight='balanced', random_state=seed)\n",
        "# grid_search = GridSearchCV(logreg, param_grid, cv=5, scoring='f1', n_jobs=-1)\n",
        "# grid_search.fit(X_train_final, y_train_final)\n",
        "\n",
        "# print(\"Best params:\", grid_search.best_params_)\n",
        "\n",
        "# best_logreg = grid_search.best_estimator_\n",
        "# y_pred = best_logreg.predict(X_val_final)\n",
        "# val_metrics = get_metrics(y_val_final, y_pred)\n",
        "# print(\"Validation metrics:\", val_metrics)"
      ],
      "metadata": {
        "id": "HBbEbT6XHVKH"
      },
      "execution_count": null,
      "outputs": []
    },
    {
      "cell_type": "markdown",
      "source": [
        "Best params: {'C': 0.1, 'penalty': 'l2', 'solver': 'liblinear'}\n",
        "\n",
        "\n",
        "Validation metrics: {'accuracy': 0.7367, 'precision': 0.8757, 'recall': 0.7431, 'f1': 0.804}"
      ],
      "metadata": {
        "id": "SIDuLNKkIXM-"
      }
    },
    {
      "cell_type": "code",
      "source": [
        "best_logreg = LogisticRegression(\n",
        "    C=0.1,\n",
        "    penalty='l2',\n",
        "    solver='liblinear',\n",
        "    class_weight='balanced',\n",
        "    random_state=42\n",
        ")\n",
        "\n",
        "best_logreg.fit(X_train_final, y_train_final)\n",
        "\n",
        "y_pred = best_logreg.predict(X_val_final)\n",
        "val_metrics = get_metrics(y_val_final, y_pred)\n",
        "print(\"Best Logistic Regression metrics:\", val_metrics)"
      ],
      "metadata": {
        "colab": {
          "base_uri": "https://localhost:8080/"
        },
        "id": "XGSp6JdUIaru",
        "outputId": "aba4e5d9-ad2b-45ef-b84f-4621b579048d"
      },
      "execution_count": null,
      "outputs": [
        {
          "output_type": "stream",
          "name": "stdout",
          "text": [
            "Best Logistic Regression metrics: {'accuracy': 0.7367, 'precision': 0.8757, 'recall': 0.7431, 'f1': 0.804}\n"
          ]
        }
      ]
    },
    {
      "cell_type": "markdown",
      "source": [
        "###Обучение SVM"
      ],
      "metadata": {
        "id": "5kukTBLVkF4K"
      }
    },
    {
      "cell_type": "code",
      "source": [
        "param_grid = {\n",
        "    'C': [0.01, 0.1, 1, 10, 100],  # Параметр регуляризации\n",
        "    'kernel': ['rbf', 'linear'],  # Тип ядра\n",
        "    'gamma': ['scale', 'auto', 0.001, 0.01, 0.1, 1],  # Коэффициент ядра для rbf/poly\n",
        "}\n",
        "\n",
        "# Создаем модель SVM\n",
        "svm = SVC(probability=True, random_state=seed)  # probability=True для predict_proba\n",
        "\n",
        "# Настраиваем GridSearchCV\n",
        "grid_search = GridSearchCV(\n",
        "    svm,\n",
        "    param_grid,\n",
        "    cv=4,\n",
        "    scoring='f1',\n",
        "    n_jobs=1,\n",
        "    verbose=3\n",
        ")\n",
        "\n",
        "# Обучаем на тренировочных данных\n",
        "grid_search.fit(X_train_final, y_train_final)\n",
        "\n",
        "# Выводим лучшие параметры\n",
        "print(\"Best params:\", grid_search.best_params_)\n",
        "print(\"Best CV score:\", grid_search.best_score_)\n",
        "\n",
        "# Получаем лучшую модель\n",
        "best_svm = grid_search.best_estimator_\n",
        "\n",
        "# Делаем предсказания на валидационной выборке\n",
        "y_pred = best_svm.predict(X_val_final)\n",
        "\n",
        "# Вычисляем метрики\n",
        "val_metrics = get_metrics(y_val_final, y_pred)\n",
        "print(\"Validation metrics:\", val_metrics)"
      ],
      "metadata": {
        "colab": {
          "base_uri": "https://localhost:8080/"
        },
        "id": "kT0VedxUlmxh",
        "outputId": "c3eced42-ed89-4827-bf13-0a688aeb2e92"
      },
      "execution_count": null,
      "outputs": [
        {
          "output_type": "stream",
          "name": "stdout",
          "text": [
            "Fitting 4 folds for each of 60 candidates, totalling 240 fits\n",
            "[CV 1/4] END ...C=0.01, gamma=scale, kernel=rbf;, score=0.841 total time=   3.6s\n",
            "[CV 2/4] END ...C=0.01, gamma=scale, kernel=rbf;, score=0.841 total time=   2.0s\n",
            "[CV 3/4] END ...C=0.01, gamma=scale, kernel=rbf;, score=0.841 total time=   2.0s\n",
            "[CV 4/4] END ...C=0.01, gamma=scale, kernel=rbf;, score=0.841 total time=   2.5s\n",
            "[CV 1/4] END C=0.01, gamma=scale, kernel=linear;, score=0.866 total time=   2.1s\n",
            "[CV 2/4] END C=0.01, gamma=scale, kernel=linear;, score=0.864 total time=   1.5s\n",
            "[CV 3/4] END C=0.01, gamma=scale, kernel=linear;, score=0.861 total time=   1.3s\n",
            "[CV 4/4] END C=0.01, gamma=scale, kernel=linear;, score=0.866 total time=   1.3s\n",
            "[CV 1/4] END ....C=0.01, gamma=auto, kernel=rbf;, score=0.841 total time=   2.0s\n",
            "[CV 2/4] END ....C=0.01, gamma=auto, kernel=rbf;, score=0.841 total time=   2.0s\n",
            "[CV 3/4] END ....C=0.01, gamma=auto, kernel=rbf;, score=0.841 total time=   2.0s\n",
            "[CV 4/4] END ....C=0.01, gamma=auto, kernel=rbf;, score=0.841 total time=   2.8s\n",
            "[CV 1/4] END .C=0.01, gamma=auto, kernel=linear;, score=0.866 total time=   1.8s\n",
            "[CV 2/4] END .C=0.01, gamma=auto, kernel=linear;, score=0.864 total time=   1.2s\n",
            "[CV 3/4] END .C=0.01, gamma=auto, kernel=linear;, score=0.861 total time=   1.2s\n",
            "[CV 4/4] END .C=0.01, gamma=auto, kernel=linear;, score=0.866 total time=   1.2s\n",
            "[CV 1/4] END ...C=0.01, gamma=0.001, kernel=rbf;, score=0.841 total time=   1.9s\n",
            "[CV 2/4] END ...C=0.01, gamma=0.001, kernel=rbf;, score=0.841 total time=   1.9s\n",
            "[CV 3/4] END ...C=0.01, gamma=0.001, kernel=rbf;, score=0.841 total time=   1.9s\n",
            "[CV 4/4] END ...C=0.01, gamma=0.001, kernel=rbf;, score=0.841 total time=   2.8s\n",
            "[CV 1/4] END C=0.01, gamma=0.001, kernel=linear;, score=0.866 total time=   1.7s\n",
            "[CV 2/4] END C=0.01, gamma=0.001, kernel=linear;, score=0.864 total time=   1.2s\n",
            "[CV 3/4] END C=0.01, gamma=0.001, kernel=linear;, score=0.861 total time=   1.2s\n",
            "[CV 4/4] END C=0.01, gamma=0.001, kernel=linear;, score=0.866 total time=   1.2s\n",
            "[CV 1/4] END ....C=0.01, gamma=0.01, kernel=rbf;, score=0.841 total time=   1.9s\n",
            "[CV 2/4] END ....C=0.01, gamma=0.01, kernel=rbf;, score=0.841 total time=   1.9s\n",
            "[CV 3/4] END ....C=0.01, gamma=0.01, kernel=rbf;, score=0.841 total time=   1.9s\n",
            "[CV 4/4] END ....C=0.01, gamma=0.01, kernel=rbf;, score=0.841 total time=   2.9s\n",
            "[CV 1/4] END .C=0.01, gamma=0.01, kernel=linear;, score=0.866 total time=   1.7s\n",
            "[CV 2/4] END .C=0.01, gamma=0.01, kernel=linear;, score=0.864 total time=   1.2s\n",
            "[CV 3/4] END .C=0.01, gamma=0.01, kernel=linear;, score=0.861 total time=   1.2s\n",
            "[CV 4/4] END .C=0.01, gamma=0.01, kernel=linear;, score=0.866 total time=   1.2s\n",
            "[CV 1/4] END .....C=0.01, gamma=0.1, kernel=rbf;, score=0.841 total time=   1.9s\n",
            "[CV 2/4] END .....C=0.01, gamma=0.1, kernel=rbf;, score=0.841 total time=   1.9s\n",
            "[CV 3/4] END .....C=0.01, gamma=0.1, kernel=rbf;, score=0.841 total time=   1.9s\n",
            "[CV 4/4] END .....C=0.01, gamma=0.1, kernel=rbf;, score=0.841 total time=   3.0s\n",
            "[CV 1/4] END ..C=0.01, gamma=0.1, kernel=linear;, score=0.866 total time=   1.6s\n",
            "[CV 2/4] END ..C=0.01, gamma=0.1, kernel=linear;, score=0.864 total time=   1.2s\n",
            "[CV 3/4] END ..C=0.01, gamma=0.1, kernel=linear;, score=0.861 total time=   1.2s\n",
            "[CV 4/4] END ..C=0.01, gamma=0.1, kernel=linear;, score=0.866 total time=   1.2s\n",
            "[CV 1/4] END .......C=0.01, gamma=1, kernel=rbf;, score=0.841 total time=   2.5s\n",
            "[CV 2/4] END .......C=0.01, gamma=1, kernel=rbf;, score=0.841 total time=   2.5s\n",
            "[CV 3/4] END .......C=0.01, gamma=1, kernel=rbf;, score=0.841 total time=   3.8s\n",
            "[CV 4/4] END .......C=0.01, gamma=1, kernel=rbf;, score=0.841 total time=   2.8s\n",
            "[CV 1/4] END ....C=0.01, gamma=1, kernel=linear;, score=0.866 total time=   1.2s\n",
            "[CV 2/4] END ....C=0.01, gamma=1, kernel=linear;, score=0.864 total time=   1.3s\n",
            "[CV 3/4] END ....C=0.01, gamma=1, kernel=linear;, score=0.861 total time=   1.2s\n",
            "[CV 4/4] END ....C=0.01, gamma=1, kernel=linear;, score=0.866 total time=   1.2s\n",
            "[CV 1/4] END ....C=0.1, gamma=scale, kernel=rbf;, score=0.868 total time=   1.9s\n",
            "[CV 2/4] END ....C=0.1, gamma=scale, kernel=rbf;, score=0.866 total time=   2.6s\n",
            "[CV 3/4] END ....C=0.1, gamma=scale, kernel=rbf;, score=0.857 total time=   2.7s\n",
            "[CV 4/4] END ....C=0.1, gamma=scale, kernel=rbf;, score=0.865 total time=   1.9s\n",
            "[CV 1/4] END .C=0.1, gamma=scale, kernel=linear;, score=0.867 total time=   1.2s\n",
            "[CV 2/4] END .C=0.1, gamma=scale, kernel=linear;, score=0.869 total time=   1.2s\n",
            "[CV 3/4] END .C=0.1, gamma=scale, kernel=linear;, score=0.865 total time=   1.2s\n",
            "[CV 4/4] END .C=0.1, gamma=scale, kernel=linear;, score=0.860 total time=   1.2s\n",
            "[CV 1/4] END .....C=0.1, gamma=auto, kernel=rbf;, score=0.867 total time=   1.9s\n",
            "[CV 2/4] END .....C=0.1, gamma=auto, kernel=rbf;, score=0.865 total time=   2.5s\n",
            "[CV 3/4] END .....C=0.1, gamma=auto, kernel=rbf;, score=0.859 total time=   2.7s\n",
            "[CV 4/4] END .....C=0.1, gamma=auto, kernel=rbf;, score=0.863 total time=   1.9s\n",
            "[CV 1/4] END ..C=0.1, gamma=auto, kernel=linear;, score=0.867 total time=   1.2s\n",
            "[CV 2/4] END ..C=0.1, gamma=auto, kernel=linear;, score=0.869 total time=   1.2s\n",
            "[CV 3/4] END ..C=0.1, gamma=auto, kernel=linear;, score=0.865 total time=   1.2s\n",
            "[CV 4/4] END ..C=0.1, gamma=auto, kernel=linear;, score=0.860 total time=   1.2s\n",
            "[CV 1/4] END ....C=0.1, gamma=0.001, kernel=rbf;, score=0.841 total time=   1.9s\n",
            "[CV 2/4] END ....C=0.1, gamma=0.001, kernel=rbf;, score=0.841 total time=   2.5s\n",
            "[CV 3/4] END ....C=0.1, gamma=0.001, kernel=rbf;, score=0.841 total time=   2.8s\n",
            "[CV 4/4] END ....C=0.1, gamma=0.001, kernel=rbf;, score=0.841 total time=   1.9s\n",
            "[CV 1/4] END .C=0.1, gamma=0.001, kernel=linear;, score=0.867 total time=   1.2s\n",
            "[CV 2/4] END .C=0.1, gamma=0.001, kernel=linear;, score=0.869 total time=   1.2s\n",
            "[CV 3/4] END .C=0.1, gamma=0.001, kernel=linear;, score=0.865 total time=   1.2s\n",
            "[CV 4/4] END .C=0.1, gamma=0.001, kernel=linear;, score=0.860 total time=   1.2s\n",
            "[CV 1/4] END .....C=0.1, gamma=0.01, kernel=rbf;, score=0.841 total time=   1.9s\n",
            "[CV 2/4] END .....C=0.1, gamma=0.01, kernel=rbf;, score=0.841 total time=   2.4s\n",
            "[CV 3/4] END .....C=0.1, gamma=0.01, kernel=rbf;, score=0.841 total time=   2.8s\n",
            "[CV 4/4] END .....C=0.1, gamma=0.01, kernel=rbf;, score=0.841 total time=   1.9s\n",
            "[CV 1/4] END ..C=0.1, gamma=0.01, kernel=linear;, score=0.867 total time=   1.2s\n",
            "[CV 2/4] END ..C=0.1, gamma=0.01, kernel=linear;, score=0.869 total time=   1.2s\n",
            "[CV 3/4] END ..C=0.1, gamma=0.01, kernel=linear;, score=0.865 total time=   1.2s\n",
            "[CV 4/4] END ..C=0.1, gamma=0.01, kernel=linear;, score=0.860 total time=   1.2s\n",
            "[CV 1/4] END ......C=0.1, gamma=0.1, kernel=rbf;, score=0.868 total time=   1.9s\n",
            "[CV 2/4] END ......C=0.1, gamma=0.1, kernel=rbf;, score=0.866 total time=   2.4s\n",
            "[CV 3/4] END ......C=0.1, gamma=0.1, kernel=rbf;, score=0.857 total time=   2.8s\n",
            "[CV 4/4] END ......C=0.1, gamma=0.1, kernel=rbf;, score=0.863 total time=   1.9s\n",
            "[CV 1/4] END ...C=0.1, gamma=0.1, kernel=linear;, score=0.867 total time=   1.2s\n",
            "[CV 2/4] END ...C=0.1, gamma=0.1, kernel=linear;, score=0.869 total time=   1.2s\n",
            "[CV 3/4] END ...C=0.1, gamma=0.1, kernel=linear;, score=0.865 total time=   1.2s\n",
            "[CV 4/4] END ...C=0.1, gamma=0.1, kernel=linear;, score=0.860 total time=   1.2s\n",
            "[CV 1/4] END ........C=0.1, gamma=1, kernel=rbf;, score=0.841 total time=   2.9s\n",
            "[CV 2/4] END ........C=0.1, gamma=1, kernel=rbf;, score=0.841 total time=   4.2s\n",
            "[CV 3/4] END ........C=0.1, gamma=1, kernel=rbf;, score=0.841 total time=   2.9s\n",
            "[CV 4/4] END ........C=0.1, gamma=1, kernel=rbf;, score=0.841 total time=   2.9s\n",
            "[CV 1/4] END .....C=0.1, gamma=1, kernel=linear;, score=0.867 total time=   1.2s\n",
            "[CV 2/4] END .....C=0.1, gamma=1, kernel=linear;, score=0.869 total time=   1.2s\n",
            "[CV 3/4] END .....C=0.1, gamma=1, kernel=linear;, score=0.865 total time=   1.2s\n",
            "[CV 4/4] END .....C=0.1, gamma=1, kernel=linear;, score=0.860 total time=   1.7s\n",
            "[CV 1/4] END ......C=1, gamma=scale, kernel=rbf;, score=0.865 total time=   2.8s\n",
            "[CV 2/4] END ......C=1, gamma=scale, kernel=rbf;, score=0.861 total time=   1.9s\n",
            "[CV 3/4] END ......C=1, gamma=scale, kernel=rbf;, score=0.858 total time=   1.9s\n",
            "[CV 4/4] END ......C=1, gamma=scale, kernel=rbf;, score=0.867 total time=   1.9s\n",
            "[CV 1/4] END ...C=1, gamma=scale, kernel=linear;, score=0.868 total time=   1.6s\n",
            "[CV 2/4] END ...C=1, gamma=scale, kernel=linear;, score=0.867 total time=   1.6s\n",
            "[CV 3/4] END ...C=1, gamma=scale, kernel=linear;, score=0.865 total time=   2.2s\n",
            "[CV 4/4] END ...C=1, gamma=scale, kernel=linear;, score=0.860 total time=   2.3s\n",
            "[CV 1/4] END .......C=1, gamma=auto, kernel=rbf;, score=0.869 total time=   1.8s\n",
            "[CV 2/4] END .......C=1, gamma=auto, kernel=rbf;, score=0.865 total time=   1.8s\n",
            "[CV 3/4] END .......C=1, gamma=auto, kernel=rbf;, score=0.859 total time=   1.8s\n",
            "[CV 4/4] END .......C=1, gamma=auto, kernel=rbf;, score=0.867 total time=   1.8s\n",
            "[CV 1/4] END ....C=1, gamma=auto, kernel=linear;, score=0.868 total time=   1.6s\n",
            "[CV 2/4] END ....C=1, gamma=auto, kernel=linear;, score=0.867 total time=   2.0s\n",
            "[CV 3/4] END ....C=1, gamma=auto, kernel=linear;, score=0.865 total time=   2.4s\n",
            "[CV 4/4] END ....C=1, gamma=auto, kernel=linear;, score=0.860 total time=   1.7s\n",
            "[CV 1/4] END ......C=1, gamma=0.001, kernel=rbf;, score=0.841 total time=   1.9s\n",
            "[CV 2/4] END ......C=1, gamma=0.001, kernel=rbf;, score=0.841 total time=   1.9s\n",
            "[CV 3/4] END ......C=1, gamma=0.001, kernel=rbf;, score=0.841 total time=   1.9s\n",
            "[CV 4/4] END ......C=1, gamma=0.001, kernel=rbf;, score=0.841 total time=   1.9s\n",
            "[CV 1/4] END ...C=1, gamma=0.001, kernel=linear;, score=0.868 total time=   2.0s\n",
            "[CV 2/4] END ...C=1, gamma=0.001, kernel=linear;, score=0.867 total time=   2.5s\n",
            "[CV 3/4] END ...C=1, gamma=0.001, kernel=linear;, score=0.865 total time=   1.6s\n",
            "[CV 4/4] END ...C=1, gamma=0.001, kernel=linear;, score=0.860 total time=   1.6s\n",
            "[CV 1/4] END .......C=1, gamma=0.01, kernel=rbf;, score=0.867 total time=   1.8s\n",
            "[CV 2/4] END .......C=1, gamma=0.01, kernel=rbf;, score=0.865 total time=   1.8s\n",
            "[CV 3/4] END .......C=1, gamma=0.01, kernel=rbf;, score=0.863 total time=   1.8s\n",
            "[CV 4/4] END .......C=1, gamma=0.01, kernel=rbf;, score=0.863 total time=   2.0s\n",
            "[CV 1/4] END ....C=1, gamma=0.01, kernel=linear;, score=0.868 total time=   2.4s\n",
            "[CV 2/4] END ....C=1, gamma=0.01, kernel=linear;, score=0.867 total time=   2.0s\n",
            "[CV 3/4] END ....C=1, gamma=0.01, kernel=linear;, score=0.865 total time=   1.6s\n",
            "[CV 4/4] END ....C=1, gamma=0.01, kernel=linear;, score=0.860 total time=   1.6s\n",
            "[CV 1/4] END ........C=1, gamma=0.1, kernel=rbf;, score=0.865 total time=   1.8s\n",
            "[CV 2/4] END ........C=1, gamma=0.1, kernel=rbf;, score=0.866 total time=   1.9s\n",
            "[CV 3/4] END ........C=1, gamma=0.1, kernel=rbf;, score=0.859 total time=   1.8s\n",
            "[CV 4/4] END ........C=1, gamma=0.1, kernel=rbf;, score=0.867 total time=   2.9s\n",
            "[CV 1/4] END .....C=1, gamma=0.1, kernel=linear;, score=0.868 total time=   2.0s\n",
            "[CV 2/4] END .....C=1, gamma=0.1, kernel=linear;, score=0.867 total time=   1.6s\n",
            "[CV 3/4] END .....C=1, gamma=0.1, kernel=linear;, score=0.865 total time=   1.6s\n",
            "[CV 4/4] END .....C=1, gamma=0.1, kernel=linear;, score=0.860 total time=   1.6s\n",
            "[CV 1/4] END ..........C=1, gamma=1, kernel=rbf;, score=0.845 total time=   3.0s\n",
            "[CV 2/4] END ..........C=1, gamma=1, kernel=rbf;, score=0.853 total time=   4.0s\n",
            "[CV 3/4] END ..........C=1, gamma=1, kernel=rbf;, score=0.846 total time=   3.3s\n",
            "[CV 4/4] END ..........C=1, gamma=1, kernel=rbf;, score=0.850 total time=   3.0s\n",
            "[CV 1/4] END .......C=1, gamma=1, kernel=linear;, score=0.868 total time=   1.6s\n",
            "[CV 2/4] END .......C=1, gamma=1, kernel=linear;, score=0.867 total time=   1.7s\n",
            "[CV 3/4] END .......C=1, gamma=1, kernel=linear;, score=0.865 total time=   1.7s\n",
            "[CV 4/4] END .......C=1, gamma=1, kernel=linear;, score=0.860 total time=   2.5s\n",
            "[CV 1/4] END .....C=10, gamma=scale, kernel=rbf;, score=0.846 total time=   3.2s\n",
            "[CV 2/4] END .....C=10, gamma=scale, kernel=rbf;, score=0.854 total time=   2.7s\n",
            "[CV 3/4] END .....C=10, gamma=scale, kernel=rbf;, score=0.843 total time=   2.6s\n",
            "[CV 4/4] END .....C=10, gamma=scale, kernel=rbf;, score=0.855 total time=   2.9s\n",
            "[CV 1/4] END ..C=10, gamma=scale, kernel=linear;, score=0.868 total time=   5.1s\n",
            "[CV 2/4] END ..C=10, gamma=scale, kernel=linear;, score=0.868 total time=   3.9s\n",
            "[CV 3/4] END ..C=10, gamma=scale, kernel=linear;, score=0.867 total time=   3.8s\n",
            "[CV 4/4] END ..C=10, gamma=scale, kernel=linear;, score=0.860 total time=   5.1s\n",
            "[CV 1/4] END ......C=10, gamma=auto, kernel=rbf;, score=0.857 total time=   2.4s\n",
            "[CV 2/4] END ......C=10, gamma=auto, kernel=rbf;, score=0.864 total time=   2.4s\n",
            "[CV 3/4] END ......C=10, gamma=auto, kernel=rbf;, score=0.857 total time=   2.3s\n",
            "[CV 4/4] END ......C=10, gamma=auto, kernel=rbf;, score=0.866 total time=   2.6s\n",
            "[CV 1/4] END ...C=10, gamma=auto, kernel=linear;, score=0.868 total time=   5.0s\n",
            "[CV 2/4] END ...C=10, gamma=auto, kernel=linear;, score=0.868 total time=   3.9s\n",
            "[CV 3/4] END ...C=10, gamma=auto, kernel=linear;, score=0.867 total time=   3.9s\n",
            "[CV 4/4] END ...C=10, gamma=auto, kernel=linear;, score=0.860 total time=   5.1s\n",
            "[CV 1/4] END .....C=10, gamma=0.001, kernel=rbf;, score=0.869 total time=   1.8s\n",
            "[CV 2/4] END .....C=10, gamma=0.001, kernel=rbf;, score=0.867 total time=   1.8s\n",
            "[CV 3/4] END .....C=10, gamma=0.001, kernel=rbf;, score=0.865 total time=   1.8s\n",
            "[CV 4/4] END .....C=10, gamma=0.001, kernel=rbf;, score=0.861 total time=   1.8s\n",
            "[CV 1/4] END ..C=10, gamma=0.001, kernel=linear;, score=0.868 total time=   4.9s\n",
            "[CV 2/4] END ..C=10, gamma=0.001, kernel=linear;, score=0.868 total time=   4.1s\n",
            "[CV 3/4] END ..C=10, gamma=0.001, kernel=linear;, score=0.867 total time=   3.8s\n",
            "[CV 4/4] END ..C=10, gamma=0.001, kernel=linear;, score=0.860 total time=   4.4s\n",
            "[CV 1/4] END ......C=10, gamma=0.01, kernel=rbf;, score=0.872 total time=   2.5s\n",
            "[CV 2/4] END ......C=10, gamma=0.01, kernel=rbf;, score=0.867 total time=   1.9s\n",
            "[CV 3/4] END ......C=10, gamma=0.01, kernel=rbf;, score=0.861 total time=   1.8s\n",
            "[CV 4/4] END ......C=10, gamma=0.01, kernel=rbf;, score=0.863 total time=   1.8s\n",
            "[CV 1/4] END ...C=10, gamma=0.01, kernel=linear;, score=0.868 total time=   3.9s\n",
            "[CV 2/4] END ...C=10, gamma=0.01, kernel=linear;, score=0.868 total time=   5.1s\n",
            "[CV 3/4] END ...C=10, gamma=0.01, kernel=linear;, score=0.867 total time=   3.8s\n",
            "[CV 4/4] END ...C=10, gamma=0.01, kernel=linear;, score=0.860 total time=   3.8s\n",
            "[CV 1/4] END .......C=10, gamma=0.1, kernel=rbf;, score=0.857 total time=   3.2s\n",
            "[CV 2/4] END .......C=10, gamma=0.1, kernel=rbf;, score=0.864 total time=   3.0s\n",
            "[CV 3/4] END .......C=10, gamma=0.1, kernel=rbf;, score=0.854 total time=   2.4s\n",
            "[CV 4/4] END .......C=10, gamma=0.1, kernel=rbf;, score=0.866 total time=   2.5s\n",
            "[CV 1/4] END ....C=10, gamma=0.1, kernel=linear;, score=0.868 total time=   4.0s\n",
            "[CV 2/4] END ....C=10, gamma=0.1, kernel=linear;, score=0.868 total time=   5.0s\n",
            "[CV 3/4] END ....C=10, gamma=0.1, kernel=linear;, score=0.867 total time=   3.8s\n",
            "[CV 4/4] END ....C=10, gamma=0.1, kernel=linear;, score=0.860 total time=   3.8s\n",
            "[CV 1/4] END .........C=10, gamma=1, kernel=rbf;, score=0.823 total time=   5.0s\n",
            "[CV 2/4] END .........C=10, gamma=1, kernel=rbf;, score=0.805 total time=   3.7s\n",
            "[CV 3/4] END .........C=10, gamma=1, kernel=rbf;, score=0.816 total time=   3.7s\n",
            "[CV 4/4] END .........C=10, gamma=1, kernel=rbf;, score=0.815 total time=   4.7s\n",
            "[CV 1/4] END ......C=10, gamma=1, kernel=linear;, score=0.868 total time=   4.2s\n",
            "[CV 2/4] END ......C=10, gamma=1, kernel=linear;, score=0.868 total time=   3.9s\n",
            "[CV 3/4] END ......C=10, gamma=1, kernel=linear;, score=0.867 total time=   4.2s\n",
            "[CV 4/4] END ......C=10, gamma=1, kernel=linear;, score=0.860 total time=   4.7s\n",
            "[CV 1/4] END ....C=100, gamma=scale, kernel=rbf;, score=0.812 total time=   7.6s\n",
            "[CV 2/4] END ....C=100, gamma=scale, kernel=rbf;, score=0.807 total time=   9.0s\n",
            "[CV 3/4] END ....C=100, gamma=scale, kernel=rbf;, score=0.819 total time=   8.6s\n",
            "[CV 4/4] END ....C=100, gamma=scale, kernel=rbf;, score=0.813 total time=   7.6s\n",
            "[CV 1/4] END .C=100, gamma=scale, kernel=linear;, score=0.868 total time=  19.9s\n",
            "[CV 2/4] END .C=100, gamma=scale, kernel=linear;, score=0.868 total time=  18.6s\n",
            "[CV 3/4] END .C=100, gamma=scale, kernel=linear;, score=0.867 total time=  18.1s\n",
            "[CV 4/4] END .C=100, gamma=scale, kernel=linear;, score=0.860 total time=  19.5s\n",
            "[CV 1/4] END .....C=100, gamma=auto, kernel=rbf;, score=0.845 total time=   5.6s\n",
            "[CV 2/4] END .....C=100, gamma=auto, kernel=rbf;, score=0.854 total time=   6.6s\n",
            "[CV 3/4] END .....C=100, gamma=auto, kernel=rbf;, score=0.848 total time=   5.4s\n",
            "[CV 4/4] END .....C=100, gamma=auto, kernel=rbf;, score=0.853 total time=   6.1s\n",
            "[CV 1/4] END ..C=100, gamma=auto, kernel=linear;, score=0.868 total time=  19.5s\n",
            "[CV 2/4] END ..C=100, gamma=auto, kernel=linear;, score=0.868 total time=  18.7s\n",
            "[CV 3/4] END ..C=100, gamma=auto, kernel=linear;, score=0.867 total time=  19.2s\n",
            "[CV 4/4] END ..C=100, gamma=auto, kernel=linear;, score=0.860 total time=  18.4s\n",
            "[CV 1/4] END ....C=100, gamma=0.001, kernel=rbf;, score=0.870 total time=   1.8s\n",
            "[CV 2/4] END ....C=100, gamma=0.001, kernel=rbf;, score=0.870 total time=   1.8s\n",
            "[CV 3/4] END ....C=100, gamma=0.001, kernel=rbf;, score=0.864 total time=   1.8s\n",
            "[CV 4/4] END ....C=100, gamma=0.001, kernel=rbf;, score=0.859 total time=   2.9s\n",
            "[CV 1/4] END .C=100, gamma=0.001, kernel=linear;, score=0.868 total time=  19.0s\n",
            "[CV 2/4] END .C=100, gamma=0.001, kernel=linear;, score=0.868 total time=  18.6s\n",
            "[CV 3/4] END .C=100, gamma=0.001, kernel=linear;, score=0.867 total time=  19.2s\n",
            "[CV 4/4] END .C=100, gamma=0.001, kernel=linear;, score=0.860 total time=  18.2s\n",
            "[CV 1/4] END .....C=100, gamma=0.01, kernel=rbf;, score=0.866 total time=   2.5s\n",
            "[CV 2/4] END .....C=100, gamma=0.01, kernel=rbf;, score=0.866 total time=   2.8s\n",
            "[CV 3/4] END .....C=100, gamma=0.01, kernel=rbf;, score=0.861 total time=   3.5s\n",
            "[CV 4/4] END .....C=100, gamma=0.01, kernel=rbf;, score=0.864 total time=   2.6s\n",
            "[CV 1/4] END ..C=100, gamma=0.01, kernel=linear;, score=0.868 total time=  18.7s\n",
            "[CV 2/4] END ..C=100, gamma=0.01, kernel=linear;, score=0.868 total time=  19.9s\n",
            "[CV 3/4] END ..C=100, gamma=0.01, kernel=linear;, score=0.867 total time=  18.0s\n",
            "[CV 4/4] END ..C=100, gamma=0.01, kernel=linear;, score=0.860 total time=  19.4s\n",
            "[CV 1/4] END ......C=100, gamma=0.1, kernel=rbf;, score=0.845 total time=   7.2s\n",
            "[CV 2/4] END ......C=100, gamma=0.1, kernel=rbf;, score=0.846 total time=   5.9s\n",
            "[CV 3/4] END ......C=100, gamma=0.1, kernel=rbf;, score=0.839 total time=   7.3s\n",
            "[CV 4/4] END ......C=100, gamma=0.1, kernel=rbf;, score=0.852 total time=   6.0s\n",
            "[CV 1/4] END ...C=100, gamma=0.1, kernel=linear;, score=0.868 total time=  19.9s\n",
            "[CV 2/4] END ...C=100, gamma=0.1, kernel=linear;, score=0.868 total time=  19.1s\n",
            "[CV 3/4] END ...C=100, gamma=0.1, kernel=linear;, score=0.867 total time=  18.6s\n",
            "[CV 4/4] END ...C=100, gamma=0.1, kernel=linear;, score=0.860 total time=  19.3s\n",
            "[CV 1/4] END ........C=100, gamma=1, kernel=rbf;, score=0.810 total time=   3.8s\n",
            "[CV 2/4] END ........C=100, gamma=1, kernel=rbf;, score=0.796 total time=   4.3s\n",
            "[CV 3/4] END ........C=100, gamma=1, kernel=rbf;, score=0.805 total time=   4.4s\n",
            "[CV 4/4] END ........C=100, gamma=1, kernel=rbf;, score=0.800 total time=   3.7s\n",
            "[CV 1/4] END .....C=100, gamma=1, kernel=linear;, score=0.868 total time=  19.1s\n",
            "[CV 2/4] END .....C=100, gamma=1, kernel=linear;, score=0.868 total time=  19.6s\n",
            "[CV 3/4] END .....C=100, gamma=1, kernel=linear;, score=0.867 total time=  18.1s\n",
            "[CV 4/4] END .....C=100, gamma=1, kernel=linear;, score=0.860 total time=  19.3s\n",
            "Best params: {'C': 10, 'gamma': 'scale', 'kernel': 'linear'}\n",
            "Best CV score: 0.8657867357351154\n",
            "Validation metrics: {'accuracy': 0.79, 'precision': 0.8229, 'recall': 0.906, 'f1': 0.8624}\n"
          ]
        }
      ]
    },
    {
      "cell_type": "markdown",
      "source": [
        "Best params: {'C': 10, 'gamma': 'scale', 'kernel': 'linear'}\n",
        "\n",
        "Best CV score: 0.8657867357351154\n",
        "\n",
        "Validation metrics: {'accuracy': 0.79, 'precision': 0.8229, 'recall': 0.906, 'f1': 0.8624}"
      ],
      "metadata": {
        "id": "buTI8VKpw9wr"
      }
    },
    {
      "cell_type": "markdown",
      "source": [
        "###Стейкинг (meta model: LogReg)"
      ],
      "metadata": {
        "id": "SsWGPY6tIhvG"
      }
    },
    {
      "cell_type": "code",
      "source": [
        "estimators = [\n",
        "    ('catboost', catboost_model_nondata),\n",
        "    ('rf', best_rf1),\n",
        "    ('logreg', best_logreg)\n",
        "]\n",
        "\n",
        "stacking_model = StackingClassifier(\n",
        "    estimators=estimators,\n",
        "    final_estimator=LogisticRegression(C=0.1, random_state=seed),\n",
        "    cv='prefit',\n",
        "    passthrough=True\n",
        ")\n",
        "\n",
        "val_predictions = np.column_stack([\n",
        "    catboost_model_nondata.predict_proba(X_val)[:, 1],\n",
        "    best_rf1.predict_proba(X_val_final)[:, 1],\n",
        "    best_logreg.predict_proba(X_val_final)[:, 1]\n",
        "])\n",
        "\n",
        "meta_model = LogisticRegression(C=0.1, random_state=seed)\n",
        "meta_model.fit(val_predictions, y_val_final)\n",
        "\n",
        "stacking_proba = meta_model.predict_proba(val_predictions)[:, 1]\n",
        "y_pred_stacking = (stacking_proba > 0.5).astype(int)\n",
        "\n",
        "stacking_metrics = get_metrics(y_val_final, y_pred_stacking)\n",
        "print(\"Stacking metrics:\", stacking_metrics)"
      ],
      "metadata": {
        "colab": {
          "base_uri": "https://localhost:8080/"
        },
        "id": "Q-kNesD7IlUP",
        "outputId": "e1afd540-cdca-46fc-aaa7-e6c0bf29b647"
      },
      "execution_count": null,
      "outputs": [
        {
          "output_type": "stream",
          "name": "stdout",
          "text": [
            "Stacking metrics: {'accuracy': 0.7792, 'precision': 0.8002, 'recall': 0.9278, 'f1': 0.8593}\n"
          ]
        }
      ]
    },
    {
      "cell_type": "markdown",
      "source": [
        "Stacking metrics: {'accuracy': 0.7792, 'precision': 0.8002, 'recall': 0.9278, 'f1': 0.8593}"
      ],
      "metadata": {
        "id": "Y64FmWYtWIze"
      }
    },
    {
      "cell_type": "markdown",
      "source": [
        "###Стейкинг ((CatBoost, RF1, RF2) -> SVM)"
      ],
      "metadata": {
        "id": "iJQK7Ezmd3XY"
      }
    },
    {
      "cell_type": "code",
      "source": [
        "# from sklearn.svm import SVC\n",
        "# from sklearn.model_selection import GridSearchCV\n",
        "\n",
        "# # Step 1: Create prefit stacking (no retraining of base models)\n",
        "# estimators = [\n",
        "#     ('catboost', catboost_model_nondata),\n",
        "#     ('rf1', best_rf1),\n",
        "#     ('rf2', best_rf2)\n",
        "# ]\n",
        "\n",
        "# # Step 2: Get base model predictions on validation set\n",
        "# val_predictions = np.column_stack([\n",
        "#     catboost_model_nondata.predict_proba(X_val)[:, 1],\n",
        "#     best_rf1.predict_proba(X_val_final)[:, 1],  # Use correct feature set\n",
        "#     best_rf2.predict_proba(X_val_final)[:, 1]   # Use correct feature set\n",
        "# ])\n",
        "\n",
        "# # Step 3: Tune SVM meta-model with GridSearchCV\n",
        "# param_grid = {\n",
        "#     'C': [0.01, 0.1, 1, 10, 100],\n",
        "#     'kernel': ['rbf', 'linear'],\n",
        "#     'gamma': ['scale', 0.001, 0.01, 0.1]\n",
        "# }\n",
        "\n",
        "# svm_meta = GridSearchCV(\n",
        "#     SVC(probability=True, random_state=seed),\n",
        "#     param_grid=param_grid,\n",
        "#     cv=5,\n",
        "#     scoring='f1',\n",
        "#     n_jobs=-1,\n",
        "#     verbose=2\n",
        "# )\n",
        "\n",
        "# # Step 4: Fit SVM on stacked predictions\n",
        "# svm_meta.fit(val_predictions, y_val_final)\n",
        "\n",
        "# # Step 5: Get predictions\n",
        "# stacking_proba = svm_meta.predict_proba(val_predictions)[:, 1]\n",
        "# y_pred_stacking = (stacking_proba > 0.5).astype(int)\n",
        "\n",
        "# print(\"Best SVM parameters:\", svm_meta.best_params_)\n",
        "# print(\"Best CV score:\", svm_meta.best_score_)\n",
        "\n",
        "# stacking_metrics = get_metrics(y_val_final, y_pred_stacking)\n",
        "# print(\"Stacking metrics:\", stacking_metrics)"
      ],
      "metadata": {
        "colab": {
          "base_uri": "https://localhost:8080/"
        },
        "id": "tTHBYOMgePkV",
        "outputId": "e27c1a0f-f3c7-442a-f1cd-90f086553fba"
      },
      "execution_count": null,
      "outputs": [
        {
          "output_type": "stream",
          "name": "stdout",
          "text": [
            "Fitting 5 folds for each of 40 candidates, totalling 200 fits\n",
            "Best SVM parameters: {'C': 10, 'gamma': 0.1, 'kernel': 'rbf'}\n",
            "Best CV score: 0.8603875379654051\n",
            "Stacking metrics: {'accuracy': 0.7808, 'precision': 0.7988, 'recall': 0.9335, 'f1': 0.8609}\n"
          ]
        }
      ]
    },
    {
      "cell_type": "markdown",
      "source": [
        "###Бустинг SVM с помощью XGboost"
      ],
      "metadata": {
        "id": "fGAkcYrHbtQC"
      }
    },
    {
      "cell_type": "code",
      "source": [
        "!pip install xgboost"
      ],
      "metadata": {
        "colab": {
          "base_uri": "https://localhost:8080/"
        },
        "id": "-ZcYvyXEb08J",
        "outputId": "586a3d4e-f0ec-49a3-d38f-7d61bbca5f5b"
      },
      "execution_count": null,
      "outputs": [
        {
          "output_type": "stream",
          "name": "stdout",
          "text": [
            "Requirement already satisfied: xgboost in /usr/local/lib/python3.12/dist-packages (3.0.5)\n",
            "Requirement already satisfied: numpy in /usr/local/lib/python3.12/dist-packages (from xgboost) (2.0.2)\n",
            "Requirement already satisfied: nvidia-nccl-cu12 in /usr/local/lib/python3.12/dist-packages (from xgboost) (2.27.3)\n",
            "Requirement already satisfied: scipy in /usr/local/lib/python3.12/dist-packages (from xgboost) (1.16.2)\n"
          ]
        }
      ]
    },
    {
      "cell_type": "code",
      "source": [
        "from xgboost import XGBClassifier"
      ],
      "metadata": {
        "id": "QmwBXW0pb7bQ"
      },
      "execution_count": null,
      "outputs": []
    },
    {
      "cell_type": "code",
      "source": [
        "SVM_best = SVC(C=10, gamma='scale', kernel='linear', probability=True, random_state=seed)\n",
        "SVM_best.fit(X_train_final, y_train_final)\n",
        "\n",
        "# Compute probabilities separately for train and validation\n",
        "proba_train = pd.DataFrame(SVM_best.predict_proba(X_train_final),\n",
        "                           columns=['prob_class_0', 'prob_class_1'])\n",
        "proba_val = pd.DataFrame(SVM_best.predict_proba(X_val_final),  # Use X_val_final here!\n",
        "                         columns=['prob_class_0', 'prob_class_1'])\n",
        "\n",
        "X_train_xg = pd.concat([X_train_final.reset_index(drop=True), proba_train], axis=1)\n",
        "X_val_xg = pd.concat([X_val_final.reset_index(drop=True), proba_val], axis=1)\n",
        "\n",
        "model_xg = XGBClassifier()\n",
        "model_xg.fit(X_train_xg, y_train_final)\n",
        "y_pred = model_xg.predict(X_val_xg)\n",
        "print(get_metrics(y_val_final, y_pred))  # Use y_val_final, not y_train_final!\n"
      ],
      "metadata": {
        "colab": {
          "base_uri": "https://localhost:8080/"
        },
        "id": "5Q-v4cDvb_aa",
        "outputId": "a35f07f8-0bcc-4515-8fd4-922c6a9c619f"
      },
      "execution_count": null,
      "outputs": [
        {
          "output_type": "stream",
          "name": "stdout",
          "text": [
            "{'accuracy': 0.7617, 'precision': 0.8124, 'recall': 0.8739, 'f1': 0.842}\n"
          ]
        }
      ]
    },
    {
      "cell_type": "markdown",
      "source": [
        "Best SVM parameters: {'C': 10, 'gamma': 0.1, 'kernel': 'rbf'}\n",
        "\n",
        "Best CV score: 0.8603875379654051\n",
        "\n",
        "Stacking metrics: {'accuracy': 0.7808, 'precision': 0.7988, 'recall': 0.9335, 'f1': 0.8609}"
      ],
      "metadata": {
        "id": "GZ-GvzOYmBSr"
      }
    },
    {
      "cell_type": "code",
      "source": [
        "val_predictions = np.column_stack([\n",
        "    catboost_model_nondata.predict_proba(X_val)[:, 1],       # catboost на X_val\n",
        "    best_rf1.predict_proba(X_val_final)[:, 1],              # rf1 на X_val_final\n",
        "    best_rf2.predict_proba(X_val_final)[:, 1]               # rf2 на X_val_final\n",
        "])\n",
        "\n",
        "meta_model_SVM = SVC(probability=True, C=10, gamma=0.1, kernel='rbf', random_state=seed)\n",
        "meta_model_SVM.fit(val_predictions, y_val_final)\n",
        "\n",
        "stacking_proba = meta_model_SVM.predict_proba(val_predictions)[:, 1]\n",
        "y_pred_stacking = (stacking_proba > 0.5).astype(int)\n",
        "\n",
        "stacking_metrics = get_metrics(y_val_final, y_pred_stacking)\n",
        "print(\"Stacking metrics:\", stacking_metrics)"
      ],
      "metadata": {
        "colab": {
          "base_uri": "https://localhost:8080/"
        },
        "id": "rIWqiHD2kWJl",
        "outputId": "30d0acb8-42d0-44fa-a98b-80f098d55cdd"
      },
      "execution_count": null,
      "outputs": [
        {
          "output_type": "stream",
          "name": "stdout",
          "text": [
            "Stacking metrics: {'accuracy': 0.7808, 'precision': 0.7988, 'recall': 0.9335, 'f1': 0.8609}\n"
          ]
        }
      ]
    },
    {
      "cell_type": "markdown",
      "source": [
        "###Сохранение модели\n"
      ],
      "metadata": {
        "id": "at-9Wm0CLqBH"
      }
    },
    {
      "cell_type": "code",
      "source": [
        "model_path = '/content/drive/MyDrive/SBER_Base/models'\n",
        "\n",
        "joblib.dump(catboost_model_nondata, os.path.join(model_path, 'catboost_model.pkl'))\n",
        "joblib.dump(catboost_model_processedData, os.path.join(model_path, 'catboost_model_processedData.pkl'))\n",
        "joblib.dump(best_rf1, os.path.join(model_path, 'random_forest_model1.pkl'))\n",
        "joblib.dump(best_rf2, os.path.join(model_path, 'random_forest_model2.pkl'))\n",
        "joblib.dump(best_logreg, os.path.join(model_path, 'logreg_model.pkl'))\n",
        "joblib.dump(best_svm, os.path.join(model_path, 'svm_model.pkl'))\n",
        "joblib.dump(meta_model, os.path.join(model_path, 'meta_model.pkl'))\n",
        "joblib.dump(meta_model_SVM, os.path.join(model_path, 'meta_model_SVM.pkl'))"
      ],
      "metadata": {
        "colab": {
          "base_uri": "https://localhost:8080/",
          "height": 207
        },
        "id": "8OBYEXgBLpVv",
        "outputId": "665d39bc-ea3f-48fa-d836-07c71017fac9"
      },
      "execution_count": null,
      "outputs": [
        {
          "output_type": "error",
          "ename": "NameError",
          "evalue": "name 'catboost_model_nondata' is not defined",
          "traceback": [
            "\u001b[0;31m---------------------------------------------------------------------------\u001b[0m",
            "\u001b[0;31mNameError\u001b[0m                                 Traceback (most recent call last)",
            "\u001b[0;32m/tmp/ipython-input-664319456.py\u001b[0m in \u001b[0;36m<cell line: 0>\u001b[0;34m()\u001b[0m\n\u001b[1;32m      1\u001b[0m \u001b[0mmodel_path\u001b[0m \u001b[0;34m=\u001b[0m \u001b[0;34m'/content/drive/MyDrive/SBER_Base/models'\u001b[0m\u001b[0;34m\u001b[0m\u001b[0;34m\u001b[0m\u001b[0m\n\u001b[1;32m      2\u001b[0m \u001b[0;34m\u001b[0m\u001b[0m\n\u001b[0;32m----> 3\u001b[0;31m \u001b[0mjoblib\u001b[0m\u001b[0;34m.\u001b[0m\u001b[0mdump\u001b[0m\u001b[0;34m(\u001b[0m\u001b[0mcatboost_model_nondata\u001b[0m\u001b[0;34m,\u001b[0m \u001b[0mos\u001b[0m\u001b[0;34m.\u001b[0m\u001b[0mpath\u001b[0m\u001b[0;34m.\u001b[0m\u001b[0mjoin\u001b[0m\u001b[0;34m(\u001b[0m\u001b[0mmodel_path\u001b[0m\u001b[0;34m,\u001b[0m \u001b[0;34m'catboost_model.pkl'\u001b[0m\u001b[0;34m)\u001b[0m\u001b[0;34m)\u001b[0m\u001b[0;34m\u001b[0m\u001b[0;34m\u001b[0m\u001b[0m\n\u001b[0m\u001b[1;32m      4\u001b[0m \u001b[0mjoblib\u001b[0m\u001b[0;34m.\u001b[0m\u001b[0mdump\u001b[0m\u001b[0;34m(\u001b[0m\u001b[0mcatboost_model_processedData\u001b[0m\u001b[0;34m,\u001b[0m \u001b[0mos\u001b[0m\u001b[0;34m.\u001b[0m\u001b[0mpath\u001b[0m\u001b[0;34m.\u001b[0m\u001b[0mjoin\u001b[0m\u001b[0;34m(\u001b[0m\u001b[0mmodel_path\u001b[0m\u001b[0;34m,\u001b[0m \u001b[0;34m'catboost_model_processedData.pkl'\u001b[0m\u001b[0;34m)\u001b[0m\u001b[0;34m)\u001b[0m\u001b[0;34m\u001b[0m\u001b[0;34m\u001b[0m\u001b[0m\n\u001b[1;32m      5\u001b[0m \u001b[0mjoblib\u001b[0m\u001b[0;34m.\u001b[0m\u001b[0mdump\u001b[0m\u001b[0;34m(\u001b[0m\u001b[0mbest_rf1\u001b[0m\u001b[0;34m,\u001b[0m \u001b[0mos\u001b[0m\u001b[0;34m.\u001b[0m\u001b[0mpath\u001b[0m\u001b[0;34m.\u001b[0m\u001b[0mjoin\u001b[0m\u001b[0;34m(\u001b[0m\u001b[0mmodel_path\u001b[0m\u001b[0;34m,\u001b[0m \u001b[0;34m'random_forest_model1.pkl'\u001b[0m\u001b[0;34m)\u001b[0m\u001b[0;34m)\u001b[0m\u001b[0;34m\u001b[0m\u001b[0;34m\u001b[0m\u001b[0m\n",
            "\u001b[0;31mNameError\u001b[0m: name 'catboost_model_nondata' is not defined"
          ]
        }
      ]
    },
    {
      "cell_type": "code",
      "source": [
        "joblib.dump(model_xg, os.path.join(model_path, 'meta_model_XG.pkl'))"
      ],
      "metadata": {
        "colab": {
          "base_uri": "https://localhost:8080/"
        },
        "id": "ngHMozONgTgQ",
        "outputId": "04c50244-072e-4f21-8c7e-f617518b65f2"
      },
      "execution_count": null,
      "outputs": [
        {
          "output_type": "execute_result",
          "data": {
            "text/plain": [
              "['/content/drive/MyDrive/SBER_Base/models/meta_model_XG.pkl']"
            ]
          },
          "metadata": {},
          "execution_count": 38
        }
      ]
    }
  ]
}